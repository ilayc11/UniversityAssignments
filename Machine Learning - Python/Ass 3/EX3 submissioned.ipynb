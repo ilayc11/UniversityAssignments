{
 "cells": [
  {
   "cell_type": "markdown",
   "metadata": {
    "id": "g02uyRKMJdL_"
   },
   "source": [
    "# **Ex3**"
   ]
  },
  {
   "cell_type": "markdown",
   "metadata": {
    "id": "gSqx1-GWJcDY"
   },
   "source": [
    "## Names and IDs\n",
    "\n",
    "1.   List item\n",
    "2.   List item"
   ]
  },
  {
   "cell_type": "markdown",
   "metadata": {
    "id": "r8ssPm39Q5-6"
   },
   "source": [
    "## 1. Fuel efficiency price prediction (35 points)\n",
    "In this section we will use regression tree model for predicting the fuel efficiency for different cars\n"
   ]
  },
  {
   "cell_type": "markdown",
   "metadata": {},
   "source": [
    "The features data available here:\n",
    "https://raw.githubusercontent.com/EyalHadad/Files/main/data.csv\n",
    "\n",
    "The labels are here:\n",
    "https://raw.githubusercontent.com/EyalHadad/Files/main/labels.csv\n"
   ]
  },
  {
   "cell_type": "code",
   "execution_count": 3,
   "metadata": {
    "id": "lwd7T5K-Q5ap"
   },
   "outputs": [],
   "source": [
    "import numpy as np\n",
    "# load the data\n",
    "import pandas as pd\n",
    "y = pd.read_csv(r'https://raw.githubusercontent.com/EyalHadad/Files/main/labels.csv') \n",
    "X = pd.read_csv(r'https://raw.githubusercontent.com/EyalHadad/Files/main/data.csv') \n"
   ]
  },
  {
   "cell_type": "markdown",
   "metadata": {},
   "source": [
    "### EDA visuallization (5pts)"
   ]
  },
  {
   "cell_type": "markdown",
   "metadata": {},
   "source": [
    "Explore the data. What features are meaningful? what are the correlated features? display statistcs about the data itself including it's value ranges. "
   ]
  },
  {
   "cell_type": "code",
   "execution_count": 2,
   "metadata": {
    "id": "Q01Pg0E4aGZd"
   },
   "outputs": [],
   "source": [
    "# EDA\n"
   ]
  },
  {
   "cell_type": "markdown",
   "metadata": {
    "id": "8sWW3XfQX5_Y"
   },
   "source": [
    "### EDA insights (5pts)"
   ]
  },
  {
   "cell_type": "markdown",
   "metadata": {},
   "source": [
    "What are you insgits based on the previuse visualization?"
   ]
  },
  {
   "cell_type": "code",
   "execution_count": 4,
   "metadata": {
    "id": "KDC-WccATcUJ"
   },
   "outputs": [],
   "source": [
    "# Graph 2 -\n"
   ]
  },
  {
   "cell_type": "markdown",
   "metadata": {
    "id": "6Luq8ewBWWsX"
   },
   "source": [
    "### Preprocessing (5pts)"
   ]
  },
  {
   "cell_type": "markdown",
   "metadata": {},
   "source": [
    "Apply preprocessing according to your data, handle missing values and split the dataset into train-test as well.\n",
    "Explain the reason for all methods that you apply.\n",
    "\n",
    "Make sure that it doesn't affect the data charateristics. Which means that the correlations stay the same (if it was not corelated before it shouldn't be now)."
   ]
  },
  {
   "cell_type": "code",
   "execution_count": 5,
   "metadata": {
    "id": "4jIXZXKSTd4w"
   },
   "outputs": [],
   "source": [
    "# Preprocessing -\n"
   ]
  },
  {
   "cell_type": "markdown",
   "metadata": {
    "id": "uf0OCdmf5VZe"
   },
   "source": [
    "### Model training and evaluation (10 pts)\n"
   ]
  },
  {
   "cell_type": "markdown",
   "metadata": {},
   "source": [
    "Split the data into train-test with 80-20% ratio.\n",
    "Train the regression tree model on the training set and check it's performance on the test set using two evaluation metrics.\n",
    "Compare the results and write your conclusion"
   ]
  },
  {
   "cell_type": "code",
   "execution_count": null,
   "metadata": {},
   "outputs": [],
   "source": [
    "# Model training \n"
   ]
  },
  {
   "cell_type": "code",
   "execution_count": null,
   "metadata": {},
   "outputs": [],
   "source": [
    "# Evaluation"
   ]
  },
  {
   "cell_type": "markdown",
   "metadata": {},
   "source": [
    "### Explainability (10 pts)"
   ]
  },
  {
   "cell_type": "markdown",
   "metadata": {},
   "source": [
    "1. Use the SHAP tool for explaining how each feature contributes to the model (i,e, explain the training set) \n",
    "2. Choose 3 different cars  explain thier spesific predictions results (i,e, what was important for this spesific cars)\n"
   ]
  },
  {
   "cell_type": "markdown",
   "metadata": {
    "id": "a4D5IfkoQpsB"
   },
   "source": [
    "## 2. Classification evaluation (15 points)"
   ]
  },
  {
   "cell_type": "markdown",
   "metadata": {
    "id": "CuMf37LmjLEL"
   },
   "source": [
    "Submit question 2 as a PDF file with the calculations, graphs and explainations."
   ]
  },
  {
   "cell_type": "markdown",
   "metadata": {},
   "source": [
    "### ROC and precision recall curve (8 pts)"
   ]
  },
  {
   "cell_type": "markdown",
   "metadata": {},
   "source": [
    "Calculate ROC curve and precision recall curve with the follwing tresholds: [0,0.1,0.2,0.3,0.4,0.5,0.6,0.7,0.8,0.9,1]\n",
    "The probabilities are:"
   ]
  },
  {
   "cell_type": "markdown",
   "metadata": {},
   "source": [
    "| label | classifier 1 | classifier 2|\n",
    "|--------|----------|---------------|\n",
    "|1|0.41|1.00|\n",
    "|0\t|0.00\t|0.72\n",
    "|0\t|0.00\t|0.99\n",
    "|1\t|0.73\t|0.14\n",
    "|0\t|0.62\t|0.00\n",
    "|1\t|1.00\t|0.94\n",
    "|0\t|1.00\t|0.10\n",
    "|1\t|0.14\t|0.77\n",
    "|0\t|0.00\t|0.02\n",
    "|1\t|0.55\t|1.00\n",
    "\n",
    "\n",
    "\n",
    "\n"
   ]
  },
  {
   "cell_type": "markdown",
   "metadata": {},
   "source": [
    "Answer the following questions:\n",
    "1. Which model is better based on those graphs?\n",
    "2. If those models predict heart attack, choose a 'one threshold' metric (such as acc, precision, etc..) and explain why it's a suitable metric for this case."
   ]
  },
  {
   "cell_type": "markdown",
   "metadata": {},
   "source": [
    "### Curves differences (7 pts)"
   ]
  },
  {
   "cell_type": "markdown",
   "metadata": {},
   "source": [
    "Create a new table with two columns: 'label' and 'predictions'. Fill the table with 10 rows of values representing binary labels and corresponding predicted probabilities. \n",
    "Ensure that the values chosen for the predictions are deliberately selected to make the ROC curve and precision-recall curve look different - which means that according to one curve the model is good, and according to the second one it's bad.\n",
    "After filling the table, draw both the ROC curve and precision-recall curve using the provided data. \n",
    "Explain the values that you chose and the reason for the change."
   ]
  },
  {
   "cell_type": "markdown",
   "metadata": {
    "id": "-wefQVfhtCKs"
   },
   "source": [
    "## 3. Ensembel (40 pts)"
   ]
  },
  {
   "cell_type": "markdown",
   "metadata": {
    "collapsed": false
   },
   "source": [
    "### implement adaBoost (25 pts)\n",
    "implement the adaboost algorithm from scratch, refer to the lecture slides for the algorithm 43.\n",
    "you may add any helper functions if needed but make sure to add documentation if you do so.\n",
    "note, the base_estimator in sklearn supports sample_weight, you may use it if you want to."
   ]
  },
  {
   "cell_type": "code",
   "execution_count": 10,
   "metadata": {
    "ExecuteTime": {
     "end_time": "2024-02-22T09:32:02.956178400Z",
     "start_time": "2024-02-22T09:32:02.943919300Z"
    },
    "id": "lVdzsODntCpd"
   },
   "outputs": [],
   "source": [
    "from sklearn.datasets import make_classification\n",
    "from sklearn.tree import DecisionTreeClassifier\n",
    "from sklearn import svm\n",
    "import numpy as np\n",
    "\n",
    "\n",
    "class AdaBoost:\n",
    "    def __init__(self, n_estimators=50, base_estimator=None):\n",
    "        pass\n",
    "    def fit(self, X, y):\n",
    "        # implement the algorithm 43 from the lecture.    \n",
    "        # make sure the base_estimators are not same object (i.e. use deep copy or any other method to make sure they are different objects)\n",
    "        pass\n",
    "    def predict(self, X):\n",
    "        pass\n"
   ]
  },
  {
   "cell_type": "markdown",
   "metadata": {
    "collapsed": false
   },
   "source": [
    "### Model training \n",
    "train the adaboost model using the synthetic data below, use the following base estimators n_estimators=3,5,10:\n",
    "1. DecisionTreeClassifier with max_depth=1\n",
    "2. DecisionTreeClassifier with max_depth=3\n",
    "3. svm.SVC with kernel='linear'\n"
   ]
  },
  {
   "cell_type": "code",
   "execution_count": 11,
   "metadata": {
    "ExecuteTime": {
     "end_time": "2024-02-22T09:32:06.877727500Z",
     "start_time": "2024-02-22T09:32:06.869524400Z"
    },
    "collapsed": false
   },
   "outputs": [],
   "source": [
    "X, y = make_classification(n_samples=1000, n_features=20, n_informative=15, n_redundant=5, random_state=1)"
   ]
  },
  {
   "cell_type": "markdown",
   "metadata": {
    "collapsed": false
   },
   "source": [
    "### Model comparison (5 pts)\n",
    "compare the models using the following metrics:\n",
    "1. accuracy\n",
    "2. precision"
   ]
  },
  {
   "cell_type": "code",
   "execution_count": 11,
   "metadata": {
    "ExecuteTime": {
     "end_time": "2024-02-22T09:32:10.181634500Z",
     "start_time": "2024-02-22T09:32:10.179130500Z"
    },
    "collapsed": false
   },
   "outputs": [],
   "source": []
  },
  {
   "cell_type": "markdown",
   "metadata": {
    "collapsed": false
   },
   "source": [
    "### compare number of learners (10 pts)\n",
    "Choose the best base estimator from the previous section. \n",
    "Compare the effect of the number of learners on the models error on both the training set and validation set.\n",
    "use n_estimators = [1,5,10,20,50,100] and plot the error rate for each number of learners.\n",
    "discuss the results."
   ]
  },
  {
   "cell_type": "code",
   "execution_count": null,
   "metadata": {
    "collapsed": false
   },
   "outputs": [],
   "source": []
  },
  {
   "cell_type": "markdown",
   "metadata": {
    "collapsed": false
   },
   "source": []
  },
  {
   "cell_type": "markdown",
   "metadata": {
    "id": "1FBNDN4M1_5R"
   },
   "source": [
    "## 4. SVM (10 points)"
   ]
  },
  {
   "cell_type": "markdown",
   "metadata": {},
   "source": [
    "Submit question 4 in the pdf file."
   ]
  },
  {
   "cell_type": "markdown",
   "metadata": {},
   "source": [
    "### Find the SVM formula (6 pts)"
   ]
  },
  {
   "cell_type": "markdown",
   "metadata": {},
   "source": [
    "Given the following points find and draw the SVM formula (hyperplane formula):"
   ]
  },
  {
   "cell_type": "markdown",
   "metadata": {},
   "source": [
    "| x1 | x2 | class|\n",
    "|--------|----------|---------------|\n",
    "|1|6|-|\n",
    "|1\t|10\t|-\n",
    "|4\t|11\t|-\n",
    "|6\t|1\t|+\n",
    "|7\t|6\t|+\n",
    "|10\t|4\t|+"
   ]
  },
  {
   "cell_type": "markdown",
   "metadata": {},
   "source": [
    "### Margin size (4 pts)"
   ]
  },
  {
   "cell_type": "markdown",
   "metadata": {},
   "source": [
    "Based on the hyperplane, calculate the margin size."
   ]
  }
 ],
 "metadata": {
  "colab": {
   "collapsed_sections": [
    "Esbc-ZiCO60h",
    "r8ssPm39Q5-6",
    "RfPU_uMSpZ9l",
    "KSev7vbfqTw7",
    "-wefQVfhtCKs",
    "1FBNDN4M1_5R",
    "uNRbRYwQ3F1p",
    "G79RYqGx3SX5"
   ],
   "provenance": []
  },
  "kernelspec": {
   "display_name": "Python 3 (ipykernel)",
   "language": "python",
   "name": "python3"
  },
  "language_info": {
   "name": "python"
  }
 },
 "nbformat": 4,
 "nbformat_minor": 0
}
