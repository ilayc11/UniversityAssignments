{
  "nbformat": 4,
  "nbformat_minor": 0,
  "metadata": {
    "colab": {
      "provenance": [],
      "collapsed_sections": [
        "Esbc-ZiCO60h",
        "r8ssPm39Q5-6",
        "RfPU_uMSpZ9l",
        "KSev7vbfqTw7",
        "-wefQVfhtCKs",
        "1FBNDN4M1_5R",
        "uNRbRYwQ3F1p",
        "G79RYqGx3SX5"
      ]
    },
    "kernelspec": {
      "name": "python3",
      "display_name": "Python 3"
    },
    "language_info": {
      "name": "python"
    }
  },
  "cells": [
    {
      "cell_type": "markdown",
      "source": [
        "# **Ex1 - Unsupervised learning**"
      ],
      "metadata": {
        "id": "g02uyRKMJdL_"
      }
    },
    {
      "cell_type": "markdown",
      "source": [
        "## Names and IDs\n",
        "\n",
        "1.   List item\n",
        "2.   List item"
      ],
      "metadata": {
        "id": "gSqx1-GWJcDY"
      }
    },
    {
      "cell_type": "markdown",
      "source": [
        "**Introduction**"
      ],
      "metadata": {
        "id": "4fdcpdvZMdJs"
      }
    },
    {
      "cell_type": "markdown",
      "source": [
        "In this assignment, we will focus on the practical application of unsupervised learning methods, specifically K-means clustering and Principal Component Analysis (PCA). The primary objective is to deepen your understanding of these algorithms and develop proficiency in their implementation using Python and relevant libraries."
      ],
      "metadata": {
        "id": "E565M8V0JiPx"
      }
    },
    {
      "cell_type": "markdown",
      "source": [
        "**Learning Objectives:**\n",
        "1.   **Load Local Files**: Implement techniques for\n",
        "     loading datasets from a local file system into Python.\n",
        "3.   **Data Visualization**: Apply various visualization techniques to interpret and present your data analysis findings effectively.\n",
        "4.   **Use Scikit-learn for K-means Clustering**: Use the Scikit-learn library to apply the K-means clustering algorithm.\n",
        "5.   **Implement Scikit-learn PCA**: Utilize PCA from Scikit-learn to perform dimensionality reduction, a critical technique for analyzing high-dimensional data.\n",
        "6.   **Algoritmic Understendig**: Solve the calculation problem whle using the algorithms learned in class.\n",
        "\n",
        "\n",
        "\n",
        "\n",
        "\n"
      ],
      "metadata": {
        "id": "MmZgvCtuMgfM"
      }
    },
    {
      "cell_type": "markdown",
      "source": [
        "\n",
        "**Important Guidelines:**\n",
        "\n",
        "**Thoroughly Read the Task Before Implementation:** Ensure to understand the entire assignment and its requirements before beginning to code. A comprehensive understanding will aid in a more structured and efficient approach to the tasks.\n",
        "\n",
        "**Code Reusability and Function Writing:** Focus on writing reusable code and functions. This practice is crucial for maintaining an organized, efficient, and easily debuggable codebase.\n",
        "\n",
        "\n",
        "\n",
        "\n",
        "\n",
        "\n",
        "\n",
        "\n",
        "\n",
        "\n",
        "\n",
        "\n",
        "\n",
        "\n",
        "\n",
        "\n",
        "\n",
        "\n",
        "\n"
      ],
      "metadata": {
        "id": "d35uo61hMmPG"
      }
    },
    {
      "cell_type": "markdown",
      "source": [
        "This assignment is designed to enhance both your theoretical understanding and practical skills in key areas of machine learning. Approach each task with diligence and attention to detail."
      ],
      "metadata": {
        "id": "TQqIK7IkOXUK"
      }
    },
    {
      "cell_type": "markdown",
      "source": [
        "## Import All Packages\n",
        "Add all imports needed for this notebook to run"
      ],
      "metadata": {
        "id": "Esbc-ZiCO60h"
      }
    },
    {
      "cell_type": "code",
      "execution_count": null,
      "metadata": {
        "id": "LLufnb-KI64u"
      },
      "outputs": [],
      "source": [
        "\n"
      ]
    },
    {
      "cell_type": "markdown",
      "source": [
        "## 1. Visualization (15 points)\n",
        "In this section, your task is to create and analyze **three** insightful visualizations based on the customer segmentation dataset. The purpose of these visualizations is to uncover underlying patterns and trends in the data that can inform strategic decisions. Your ability to interpret these visualizations will be key in understanding customer behaviors and preferences.\n",
        "\n",
        "*   You will get 4 points for the graph and 1 for the insight.\n",
        "\n"
      ],
      "metadata": {
        "id": "r8ssPm39Q5-6"
      }
    },
    {
      "cell_type": "code",
      "source": [
        "# load the data\n"
      ],
      "metadata": {
        "id": "lwd7T5K-Q5ap"
      },
      "execution_count": 3,
      "outputs": []
    },
    {
      "cell_type": "code",
      "source": [
        "# Graph 1 -\n"
      ],
      "metadata": {
        "id": "Q01Pg0E4aGZd"
      },
      "execution_count": 2,
      "outputs": []
    },
    {
      "cell_type": "markdown",
      "source": [
        "**Insight** -"
      ],
      "metadata": {
        "id": "8sWW3XfQX5_Y"
      }
    },
    {
      "cell_type": "code",
      "source": [
        "# Graph 2 -\n"
      ],
      "metadata": {
        "id": "KDC-WccATcUJ"
      },
      "execution_count": 4,
      "outputs": []
    },
    {
      "cell_type": "markdown",
      "source": [
        "**Insight** -"
      ],
      "metadata": {
        "id": "6Luq8ewBWWsX"
      }
    },
    {
      "cell_type": "code",
      "source": [
        "# Graph 3 -\n"
      ],
      "metadata": {
        "id": "4jIXZXKSTd4w"
      },
      "execution_count": 5,
      "outputs": []
    },
    {
      "cell_type": "markdown",
      "source": [
        "**Insight** -"
      ],
      "metadata": {
        "id": "uf0OCdmf5VZe"
      }
    },
    {
      "cell_type": "markdown",
      "source": [
        "## 2. KMEANS (35 points)\n",
        "\n",
        "In this exercise, you will implement K-means clustering on a comprehensive customer dataset, to identify distinct customer segments."
      ],
      "metadata": {
        "id": "a4D5IfkoQpsB"
      }
    },
    {
      "cell_type": "markdown",
      "source": [
        "*   Load the data again.\n",
        "*   Scale the data using minmax scaler (2 points).\n",
        "*   Encode categorical variables (3 points).\n",
        "*   Apply k-Means algorithm on the 'MntMeatProducts' and 'MntWines' features using n_clusters=5\n",
        " (10 points).\n",
        "*   Visualize the clusters (5 points).\n",
        "*   Apply k-Means algorithm on all features and find the best k using 2 methods (10 points).\n",
        "*   Visualize the methods (5 points).\n",
        "\n",
        "\n",
        "\n",
        "\n",
        "\n",
        "\n",
        "\n",
        "\n"
      ],
      "metadata": {
        "id": "CuMf37LmjLEL"
      }
    },
    {
      "cell_type": "code",
      "source": [
        "# load the data\n"
      ],
      "metadata": {
        "id": "B8Z3hdGKQpaR"
      },
      "execution_count": 6,
      "outputs": []
    },
    {
      "cell_type": "code",
      "source": [
        "# Scale the data using MinMaxScaler\n",
        "\n",
        "# Encode categorical variables\n"
      ],
      "metadata": {
        "id": "ANNPxKACQnwL"
      },
      "execution_count": 7,
      "outputs": []
    },
    {
      "cell_type": "code",
      "source": [
        "# Apply k-Means on the 'MntWines' and 'MntMeatProducts' features with n_clusters=5\n",
        "\n",
        "# Visualize the clusters\n"
      ],
      "metadata": {
        "id": "aigS0ZlGlBPn"
      },
      "execution_count": 8,
      "outputs": []
    },
    {
      "cell_type": "markdown",
      "source": [
        "### Elbow"
      ],
      "metadata": {
        "id": "RfPU_uMSpZ9l"
      }
    },
    {
      "cell_type": "code",
      "source": [],
      "metadata": {
        "id": "KMPFkb91pZDD"
      },
      "execution_count": 8,
      "outputs": []
    },
    {
      "cell_type": "markdown",
      "source": [
        "### Silhouette Score"
      ],
      "metadata": {
        "id": "KSev7vbfqTw7"
      }
    },
    {
      "cell_type": "code",
      "source": [],
      "metadata": {
        "id": "F-NuZmpIsJNA"
      },
      "execution_count": 8,
      "outputs": []
    },
    {
      "cell_type": "markdown",
      "source": [
        "## 3. PCA (15 points)\n",
        "In this exercise, you will implement PCA:\n",
        "*   With n_components = 2 (5 points).\n",
        "*   Visualize the PCA (5 points).\n",
        "*   Find the variance explined in this PCA (5 points).\n",
        "\n",
        "\n",
        "\n"
      ],
      "metadata": {
        "id": "-wefQVfhtCKs"
      }
    },
    {
      "cell_type": "code",
      "source": [
        "# Adjust n_components as needed\n",
        "\n",
        "\n",
        "# Create a DataFrame with the principal components\n",
        "\n",
        "\n",
        "\n",
        "# Plotting the PCA\n",
        "\n",
        "\n",
        "# Display explained variance\n"
      ],
      "metadata": {
        "id": "lVdzsODntCpd"
      },
      "execution_count": 9,
      "outputs": []
    },
    {
      "cell_type": "code",
      "source": [],
      "metadata": {
        "id": "K8fTt4Kl00C7"
      },
      "execution_count": 9,
      "outputs": []
    },
    {
      "cell_type": "markdown",
      "source": [
        "**Q**: What is the variance explained in the 2 component PCA?"
      ],
      "metadata": {
        "id": "PQTAlkFn040l"
      }
    },
    {
      "cell_type": "markdown",
      "source": [
        "**A**:"
      ],
      "metadata": {
        "id": "lmuwM57w1XY2"
      }
    },
    {
      "cell_type": "markdown",
      "source": [
        "## 4. PCA & Kmeans (20 points)\n",
        "This time, we will use the PCA data for the kmeans model.\n",
        "*   Run PCA with n_components = 2 (5 points)\n",
        "*   Find the best k for kmeans (5 points)\n",
        "*   Plot the best clusters (5 points)\n",
        "*   Answer the question (5 points)\n",
        "\n",
        "\n",
        "\n"
      ],
      "metadata": {
        "id": "1FBNDN4M1_5R"
      }
    },
    {
      "cell_type": "code",
      "source": [],
      "metadata": {
        "id": "g567KKzSzWYE"
      },
      "execution_count": 9,
      "outputs": []
    },
    {
      "cell_type": "markdown",
      "source": [
        "### Elbow"
      ],
      "metadata": {
        "id": "uNRbRYwQ3F1p"
      }
    },
    {
      "cell_type": "code",
      "source": [],
      "metadata": {
        "id": "MacHJeVg3DUM"
      },
      "execution_count": 9,
      "outputs": []
    },
    {
      "cell_type": "markdown",
      "source": [
        "### Silhouette"
      ],
      "metadata": {
        "id": "G79RYqGx3SX5"
      }
    },
    {
      "cell_type": "code",
      "source": [],
      "metadata": {
        "id": "IHgwpNnK3MHw"
      },
      "execution_count": 9,
      "outputs": []
    },
    {
      "cell_type": "markdown",
      "source": [
        "**Q**: In our human eye, it's looks like we need 5 clusters. But both methods return 2. Why do you think kmeans returning 2 and not 5?"
      ],
      "metadata": {
        "id": "wr9Czzz74Zrc"
      }
    },
    {
      "cell_type": "markdown",
      "source": [
        "**A**:"
      ],
      "metadata": {
        "id": "NQKf6VCk4szz"
      }
    },
    {
      "cell_type": "markdown",
      "source": [
        "## 5. K-means Clustering Exercise (15 points)\n",
        "Manually divide a given set of points into clusters using the K-means clustering."
      ],
      "metadata": {
        "id": "oPuoIFUzQTyl"
      }
    },
    {
      "cell_type": "markdown",
      "source": [
        "You are given the following two-dimensional points: <br>\n",
        "*   A:(2,2)\n",
        "*   B:(2,6)\n",
        "*   C:(3,7)\n",
        "*   D:(5,5)\n",
        "*   E:(6,2)\n",
        "*   F:(7,4)\n",
        "*   G:(8,7)\n",
        "\n",
        "**Tasks:**\n",
        "1.   **Visualize the Data**: Plot these points and label each point for easy identification (3 points).\n",
        "2.   **Choose Initial Cluster Centers**: Arbitrarily select three points as initial cluster centers (For example, you might choose points A and D) and **Answer the questions** (12 points).\n",
        "\n",
        "\n",
        "\n",
        "\n",
        "\n",
        "\n",
        "\n",
        "\n",
        "\n"
      ],
      "metadata": {
        "id": "UFYTbVgESk5i"
      }
    },
    {
      "cell_type": "code",
      "source": [],
      "metadata": {
        "id": "loZG5mEKVAqJ"
      },
      "execution_count": 9,
      "outputs": []
    },
    {
      "cell_type": "markdown",
      "source": [
        "**Questions**:\n",
        "1.   How did the points group together in the final iteration?\n",
        "2.   Was choosing different initial cluster centers leading to different final clusters? Why might this happen?\n",
        "3.   Think of any real-world scenarios where K-means clustering could be useful?\n",
        "\n",
        "\n",
        "\n",
        "\n"
      ],
      "metadata": {
        "id": "QIXBX71dV0sP"
      }
    },
    {
      "cell_type": "markdown",
      "source": [
        "**Answers**:\n",
        "\n"
      ],
      "metadata": {
        "id": "7a__DebSWTL-"
      }
    },
    {
      "cell_type": "markdown",
      "source": [
        "## 6. Bonus - Compute projection (5 points)\n",
        "**Notice:** No code required in this section.\n",
        "\n",
        "Given the next PCA projection matrix\n",
        "$\\begin{pmatrix}\n",
        "1 & 1\\\\\n",
        "2 & -1\n",
        "\\end{pmatrix}$\n",
        "And the correspoding egienvalues\n",
        "$(5, -1)$\n",
        "\n",
        "Compute the projection to one dimension of the next two vectors:\n",
        "\\begin{pmatrix}\n",
        "1 & 3\n",
        "\\end{pmatrix}\n",
        "\\begin{pmatrix}\n",
        "3 & 7\n",
        "\\end{pmatrix}"
      ],
      "metadata": {
        "id": "KTyioTC96CSR"
      }
    },
    {
      "cell_type": "code",
      "source": [],
      "metadata": {
        "id": "MuMpJEjm6Sm2"
      },
      "execution_count": null,
      "outputs": []
    }
  ]
}